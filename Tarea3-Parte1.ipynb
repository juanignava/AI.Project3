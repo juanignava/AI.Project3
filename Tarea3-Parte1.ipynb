{
 "cells": [
  {
   "cell_type": "markdown",
   "metadata": {},
   "source": [
    "### Instituto Tecnológico de Costa Rica (ITCR)\n",
    "### Escuela de Computación\n",
    "### Curso: Inteligencia Artificial\n",
    " \n",
    "### Tercera tarea programada 2022-I\n",
    "\n",
    "### Parte 1 - ejercicio 1\n",
    "\n",
    "\n",
    "Estudiantes: Juan Ignacio Navarro Navarro"
   ]
  },
  {
   "cell_type": "markdown",
   "metadata": {},
   "source": [
    "## Nota:\n",
    "\n",
    "Para correr los archivos se necesita descargar y descomprimir el dataset presentado en la sección 2 de este documento (la de la descripción de los datos utilizados en el ejercicio). Estos deben colocarse en la misma carpera en la que se encuentra el corriente cuaderno de Jupyter. De forma que se obtenga por ejemplo el siguiente orden de archivos con las imágenes de antílope.\n",
    "\n",
    "-> animals/animals/antelope\n",
    "\n",
    "-> Tarea3-Parte1\n",
    "\n",
    "-> name of animals.txt\n",
    "\n",
    "Igual para ver los resultados no se requiere hacer esto, es solo para correrlo sin problemas.\n",
    "\n",
    "## Ejercicio 1\n",
    "\n",
    "### 1) Descipción del problema y objetivo del ejercicio\n",
    "\n",
    "El objetivo de este ejercicio es practicar la implementación de una CNN utilizando PyTorch para un conjunto de datos que funciona como modelo para la clasificación de animales.\n",
    "\n",
    "En general como problema se tiene que el análisis de imágenes individualmente por una persona es sencillo si esta conoce todos los animales posibles pero tiene dos problemas. El primero es que si esta persona no conoce el animal no lo va a poder clasificar y el segundo es que una persona dura mucho en realizar esta acción. Es por esto que el desarrollo de una red neuronal convolucional es de gran utilidad porque podrá realizar el análisis de millones de imágenes en poco tiemop y hacer un reconocimiento casi inmediato para todas. La cantidad de aplicaciones que se pueden aprovechar de este rápido reconocimiento automaticado son muchas y pueden favorecer los trabajos simples en las investigaciones. \n",
    "\n",
    "### 2) Describa los datos utilizados en el ejercicio\n",
    "\n",
    "Los datos utilizados en el ejercicio corresponden a los almacenados en el siguiente repositorio https://www.kaggle.com/datasets/iamsouravbanerjee/animal-image-dataset-90-different-animals?resource=download \n",
    "\n",
    "Estos datos corresponden a un total de 5400 imágenes de 90 animales distintos los cuales fueron clasificados en carpetas. Todas estas imágenes son útiles para entrenar el modelo que luego va a reconocer alguna imagen de estas o similar y la va a clasificar en porcentajes de la especie a la cuál pertenee.\n",
    "\n",
    "### 3) Cargue, normalice y explore los datos\n",
    "\n",
    "A continuación se importan las bilbiotecas necesarias para el análisis."
   ]
  },
  {
   "cell_type": "code",
   "execution_count": 33,
   "metadata": {},
   "outputs": [],
   "source": [
    "# Bibliotecas requeridas para el ejercicio\n",
    "\n",
    "import numpy as np\n",
    "\n",
    "# Para graficar\n",
    "%matplotlib inline\n",
    "import matplotlib.pyplot as plt\n",
    "\n",
    "#Bibliotecas generales\n",
    "import torch\n",
    "import torchvision\n",
    "import torchvision.transforms as transforms\n",
    "\n",
    "# Redes neuronales\n",
    "import torch.nn as nn\n",
    "import torch.nn.functional as F\n",
    "\n",
    "# Pérdida y optimización\n",
    "import torch.optim as optim\n",
    "\n",
    "# Calculo de metricas\n",
    "from sklearn.metrics import confusion_matrix\n",
    "from sklearn.metrics import accuracy_score\n",
    "from sklearn.metrics import recall_score\n",
    "from sklearn.metrics import f1_score\n",
    "from sklearn.metrics import precision_score"
   ]
  },
  {
   "cell_type": "markdown",
   "metadata": {},
   "source": [
    "El siguiente paso es la carga y normalización de los datos"
   ]
  },
  {
   "cell_type": "code",
   "execution_count": 5,
   "metadata": {},
   "outputs": [
    {
     "name": "stdout",
     "output_type": "stream",
     "text": [
      "4\n"
     ]
    }
   ],
   "source": [
    "# Carga de los datos divididos en datos de entrenamiento y validación.\n",
    "\n",
    "transform = transforms.Compose(\n",
    "    [transforms.Resize(255),\n",
    "     transforms.CenterCrop(224),\n",
    "     transforms.ToTensor()])\n",
    "     #transforms.Normalize((0.5, 0.5, 0.5), (0.5, 0.5, 0.5))])\n",
    "\n",
    "#Cargador de datos de entrenamiento.\n",
    "#Se definen objetos (tipo DataLoader) para la carga de los datos \n",
    "#en mini batches ,\n",
    "trainset = torchvision.datasets.ImageFolder('./animals/animals', transform=transform)\n",
    "\n",
    "trainloader = torch.utils.data.DataLoader(trainset, batch_size=1350,\n",
    "                                          shuffle=True, num_workers=2)\n",
    "\n",
    "print(len(trainloader))\n",
    "#Datos de prueba\n",
    "testset = torchvision.datasets.ImageFolder('./animals/animals', transform=transform)\n",
    "\n",
    "testloader = torch.utils.data.DataLoader(testset, batch_size=10,\n",
    "                                          shuffle=True, num_workers=2)\n",
    "\n",
    "# Clases asociadas a las imágenes\n",
    "classes =   ('antelope','badger','bat','bear','bee','beetle','bison','boar',\n",
    "            'butterfly','cat','caterpillar','chimpanzee','cockroach','cow',\n",
    "            'coyote','crab','crow','deer','dog','dolphin','donkey','dragonfly',\n",
    "            'duck','eagle','elephant','flamingo','fly','fox','goat','goldfish',\n",
    "            'goose','gorilla','grasshopper','hamster','hare','hedgehog','hippopotamus','hornbill','horse','hummingbird',\n",
    "            'hyena','jellyfish','kangaroo','koala','ladybugs','leopard',\n",
    "            'lion','lizard','lobster','mosquito',\n",
    "            'moth','mouse', 'octopus', 'okapi','orangutan','otter','owl','ox','oyster',\n",
    "            'panda', 'parrot','pelecaniformes','penguin','pig','pigeon',\n",
    "            'porcupine','possum','raccoon','rat','reindeer','rhinoceros',\n",
    "            'sandpiper','seahorse','seal','shark','sheep','snake','sparrow',\n",
    "            'squid','squirrel','starfish','swan','tiger','turkey','turtle',\n",
    "            'whale','wolf','wombat','woodpecker','zebra')\n"
   ]
  },
  {
   "cell_type": "markdown",
   "metadata": {},
   "source": [
    "Exploración de los datos"
   ]
  },
  {
   "cell_type": "code",
   "execution_count": 6,
   "metadata": {},
   "outputs": [
    {
     "data": {
      "image/png": "[encoded data removed]",
      "text/plain": [
       "<Figure size 432x288 with 1 Axes>"
      ]
     },
     "metadata": {
      "needs_background": "light"
     },
     "output_type": "display_data"
    },
    {
     "name": "stdout",
     "output_type": "stream",
     "text": [
      "  fly  moth   fly okapi\n",
      "torch.Size([3, 38196, 1810])\n"
     ]
    }
   ],
   "source": [
    "# Funciones para desplegar algunas imágenes de forma aleatoria. \n",
    "\n",
    "def imshow(img):\n",
    "    img = img / 2 + 0.5     # Desnormalizar\n",
    "    npimg = img.numpy()\n",
    "    plt.imshow(np.transpose(npimg, (1, 2, 0)))\n",
    "    plt.show()\n",
    "\n",
    "\n",
    "# obtener imágenes del conjunto de entrenamiento al azar\n",
    "dataiter = iter(trainloader)\n",
    "images, labels = dataiter.next()\n",
    "\n",
    "\n",
    "# mostrar las imágenes\n",
    "imshow(torchvision.utils.make_grid(images))\n",
    "\n",
    "# mostrar las etiquetas\n",
    "\n",
    "print(' '.join('%5s' % classes[labels[j]] for j in range(4)))\n",
    "\n",
    "print(torchvision.utils.make_grid(images).shape)\n"
   ]
  },
  {
   "cell_type": "markdown",
   "metadata": {},
   "source": [
    "### 4) Calcule algunas estadísticas importantes, por ejemplo cantidad de registros por clase para verificar si las clases están balanceadas"
   ]
  },
  {
   "cell_type": "code",
   "execution_count": 7,
   "metadata": {},
   "outputs": [
    {
     "name": "stdout",
     "output_type": "stream",
     "text": [
      "Resumen de balance de registros:\n",
      "\n",
      "En la clase antelope hay  15  registros.\n",
      "En la clase badger hay  16  registros.\n",
      "En la clase bat hay  19  registros.\n",
      "En la clase bear hay  10  registros.\n",
      "En la clase bee hay  16  registros.\n",
      "En la clase beetle hay  13  registros.\n",
      "En la clase bison hay  12  registros.\n",
      "En la clase boar hay  14  registros.\n",
      "En la clase butterfly hay  21  registros.\n",
      "En la clase cat hay  18  registros.\n",
      "En la clase caterpillar hay  12  registros.\n",
      "En la clase chimpanzee hay  19  registros.\n",
      "En la clase cockroach hay  13  registros.\n",
      "En la clase cow hay  15  registros.\n",
      "En la clase coyote hay  11  registros.\n",
      "En la clase crab hay  13  registros.\n",
      "En la clase crow hay  18  registros.\n",
      "En la clase deer hay  14  registros.\n",
      "En la clase dog hay  9  registros.\n",
      "En la clase dolphin hay  13  registros.\n",
      "En la clase donkey hay  18  registros.\n",
      "En la clase dragonfly hay  14  registros.\n",
      "En la clase duck hay  11  registros.\n",
      "En la clase eagle hay  15  registros.\n",
      "En la clase elephant hay  11  registros.\n",
      "En la clase flamingo hay  17  registros.\n",
      "En la clase fly hay  12  registros.\n",
      "En la clase fox hay  21  registros.\n",
      "En la clase goat hay  12  registros.\n",
      "En la clase goldfish hay  5  registros.\n",
      "En la clase goose hay  14  registros.\n",
      "En la clase gorilla hay  13  registros.\n",
      "En la clase grasshopper hay  15  registros.\n",
      "En la clase hamster hay  13  registros.\n",
      "En la clase hare hay  13  registros.\n",
      "En la clase hedgehog hay  13  registros.\n",
      "En la clase hippopotamus hay  20  registros.\n",
      "En la clase hornbill hay  11  registros.\n",
      "En la clase horse hay  13  registros.\n",
      "En la clase hummingbird hay  13  registros.\n",
      "En la clase hyena hay  15  registros.\n",
      "En la clase jellyfish hay  15  registros.\n",
      "En la clase kangaroo hay  17  registros.\n",
      "En la clase koala hay  19  registros.\n",
      "En la clase ladybugs hay  20  registros.\n",
      "En la clase leopard hay  14  registros.\n",
      "En la clase lion hay  12  registros.\n",
      "En la clase lizard hay  8  registros.\n",
      "En la clase lobster hay  18  registros.\n",
      "En la clase mosquito hay  17  registros.\n",
      "En la clase moth hay  25  registros.\n",
      "En la clase mouse hay  18  registros.\n",
      "En la clase octopus hay  21  registros.\n",
      "En la clase okapi hay  19  registros.\n",
      "En la clase orangutan hay  18  registros.\n",
      "En la clase otter hay  13  registros.\n",
      "En la clase owl hay  10  registros.\n",
      "En la clase ox hay  9  registros.\n",
      "En la clase oyster hay  11  registros.\n",
      "En la clase panda hay  15  registros.\n",
      "En la clase parrot hay  28  registros.\n",
      "En la clase pelecaniformes hay  17  registros.\n",
      "En la clase penguin hay  13  registros.\n",
      "En la clase pig hay  12  registros.\n",
      "En la clase pigeon hay  12  registros.\n",
      "En la clase porcupine hay  13  registros.\n",
      "En la clase possum hay  10  registros.\n",
      "En la clase raccoon hay  12  registros.\n",
      "En la clase rat hay  18  registros.\n",
      "En la clase reindeer hay  18  registros.\n",
      "En la clase rhinoceros hay  17  registros.\n",
      "En la clase sandpiper hay  16  registros.\n",
      "En la clase seahorse hay  12  registros.\n",
      "En la clase seal hay  13  registros.\n",
      "En la clase shark hay  11  registros.\n",
      "En la clase sheep hay  17  registros.\n",
      "En la clase snake hay  17  registros.\n",
      "En la clase sparrow hay  14  registros.\n",
      "En la clase squid hay  19  registros.\n",
      "En la clase squirrel hay  15  registros.\n",
      "En la clase starfish hay  15  registros.\n",
      "En la clase swan hay  15  registros.\n",
      "En la clase tiger hay  22  registros.\n",
      "En la clase turkey hay  13  registros.\n",
      "En la clase turtle hay  18  registros.\n",
      "En la clase whale hay  22  registros.\n",
      "En la clase wolf hay  17  registros.\n",
      "En la clase wombat hay  16  registros.\n",
      "En la clase woodpecker hay  18  registros.\n",
      "En la clase zebra hay  11  registros.\n"
     ]
    }
   ],
   "source": [
    "def registros_por_clase(labels):\n",
    "    \"\"\"\n",
    "    Este método calcula la cantidad de imágenes que hay en\n",
    "    cada clase para ver si están bien balanceadas\n",
    "    \"\"\"\n",
    "    lista_registros = [0] * 90\n",
    "    for label in labels:\n",
    "        lista_registros[label]+=1\n",
    "    print(\"Resumen de balance de registros:\\n\")\n",
    "    for i in range(90):\n",
    "        print(\"En la clase \" + classes[i] + \" hay \", lista_registros[i], \" registros.\")\n",
    "\n",
    "registros_por_clase(labels)\n",
    "\n"
   ]
  },
  {
   "cell_type": "markdown",
   "metadata": {},
   "source": [
    "### 5) Defina la red convolucional"
   ]
  },
  {
   "cell_type": "code",
   "execution_count": 8,
   "metadata": {},
   "outputs": [],
   "source": [
    "# Crear el modelo de aprendizaje profundo, se crea una clase \n",
    "# que envuelve la clase nn.Module \n",
    "# Para profundizar en las entradas y salidas por capa consulte [4] y [8]\n",
    "\n",
    "class CNNet(nn.Module):\n",
    "    # Modelo de red convolucional.\n",
    "    # :params\n",
    "    #    torch.nn.Module clase que implenta la funionalidad de\n",
    "    #    redes neuronales de Pytorch \n",
    "\n",
    "    def __init__(self): \n",
    "        # Función para definir e inicializar la red.\n",
    "        super(CNNet, self).__init__()\n",
    "\n",
    "        #capa convolucional\n",
    "        #torch.nn.Conv2d(in_channels, out_channels, kernel_size...\n",
    "        self.conv1 = nn.Conv2d(3, 6, 5)\n",
    "\n",
    "        #torch.nn.MaxPool2d(kernel_size, stride,...        \n",
    "        self.pool = nn.MaxPool2d(2, 2)  \n",
    "\n",
    "        #torch.nn.Conv2d(in_channels, out_channels, kernel_size...\n",
    "        self.conv2 = nn.Conv2d(6, 16, 5)\n",
    "        \n",
    "        #Capas perceptrón del modelo\n",
    "        self.fc1 = nn.Linear(44944, 200)\n",
    "        \n",
    "        self.fc2 = nn.Linear(200, 110)\n",
    "        \n",
    "        #Salida a 10 clases \n",
    "        self.fc3 = nn.Linear(110, 90)\n",
    "\n",
    "    def forward(self, x):\n",
    "        # Aplica el modelo a los datos de entrada.\n",
    "        # :param\n",
    "        #   x : datos de la imagen a procesar.\n",
    "        \n",
    "        #Pase de la entrada por todas las capas de la red.\n",
    "        #print(\"Tamaño del x de entrada al entrenamiento:\" , x.shape)\n",
    "\n",
    "        x = self.pool(F.relu(self.conv1(x)))\n",
    "        x = self.pool(F.relu(self.conv2(x)))\n",
    "        #print(\"Tamaño de x luego de la convolución y pool:\", x.shape)\n",
    "        x = x.view(-1, 44944)\n",
    "        #x = torch.flatten(x, 4)\n",
    "        x = F.relu(self.fc1(x))\n",
    "        x = F.relu(self.fc2(x))\n",
    "        x = self.fc3(x)\n",
    "        return x\n",
    "\n",
    "\n",
    "net = CNNet()"
   ]
  },
  {
   "cell_type": "markdown",
   "metadata": {},
   "source": [
    "### 6) Defina los hiper-parámetros de entranamiento, por ejemplo, función de pérdida y el optimizador\n",
    "\n",
    "Estos dos se definen a continuación"
   ]
  },
  {
   "cell_type": "code",
   "execution_count": 9,
   "metadata": {},
   "outputs": [],
   "source": [
    "# Función de pérdida es de entropía cruzada\n",
    "criterion = nn.CrossEntropyLoss()\n",
    "\n",
    "# Optimización por descenso de gradiente estocástico (Stochastic Gradient Descent - SGD)\n",
    "optimizer = optim.SGD(net.parameters(), lr=0.001, momentum=0.9)"
   ]
  },
  {
   "cell_type": "markdown",
   "metadata": {},
   "source": [
    "### 7) Separe las muestras en datos de entrenamiento y validación y entrene el modelo\n",
    "\n",
    "A continuación se presenta el entrenamiento de la red"
   ]
  },
  {
   "cell_type": "code",
   "execution_count": 10,
   "metadata": {},
   "outputs": [
    {
     "name": "stdout",
     "output_type": "stream",
     "text": [
      "length\n",
      "4\n",
      "Fin del entrenamiento\n"
     ]
    }
   ],
   "source": [
    "# cantidad de ciclos de entrenamiento o épocas\n",
    "numEpoch = 2\n",
    "\n",
    "print(\"length\")\n",
    "print(len(trainloader))\n",
    "\n",
    "for epoch in range(numEpoch):  \n",
    "    running_loss = 0.0\n",
    "    for i, data in enumerate(trainloader, 0):\n",
    "        \n",
    "        # obtener los datos de entrada; \n",
    "        # data es una lista de la forma [inputs, labels]\n",
    "        inputs, labels = data\n",
    "\n",
    "\n",
    "        # inicializar los parámetros del gradiente.\n",
    "        optimizer.zero_grad()\n",
    "\n",
    "        # Se realizan las predicciones con el modelo. \n",
    "        # Este código ejecuta el forward de las entradas.\n",
    "        outputs = net(inputs)\n",
    "        \n",
    "        # Se calcula la pérdida utilizando Cross Entropy Loss\n",
    "        loss = criterion(outputs, labels)       \n",
    "        loss.backward()\n",
    "        \n",
    "        #El optimizador realiza las actualizaciones a través del método step().\n",
    "        optimizer.step()\n",
    "\n",
    "\n",
    "        # imprimir estadisticas\n",
    "        running_loss += loss.item()\n",
    "        if i % 100 == 99:    # imprimir mensaje cada 2000 mini-batches\n",
    "            print('[%d, %5d] pérdida: %.3f' %\n",
    "                  (epoch + 1, i + 1, running_loss / 100))\n",
    "            running_loss = 0.0\n",
    "\n",
    "print('Fin del entrenamiento')"
   ]
  },
  {
   "cell_type": "markdown",
   "metadata": {},
   "source": [
    "### 8) Evalúe el modelo resultante\n",
    "\n",
    "Primero se realiza una prueba con datos reales, por ejemplo los siguientes"
   ]
  },
  {
   "cell_type": "code",
   "execution_count": 28,
   "metadata": {},
   "outputs": [
    {
     "data": {
      "image/png": "[encoded data removed]",
      "text/plain": [
       "<Figure size 432x288 with 1 Axes>"
      ]
     },
     "metadata": {
      "needs_background": "light"
     },
     "output_type": "display_data"
    },
    {
     "name": "stdout",
     "output_type": "stream",
     "text": [
      "Etiqueta verdadera:   crow caterpillar hornbill snake squirrel reindeer  lion tiger cockroach sheep\n"
     ]
    }
   ],
   "source": [
    "\n",
    "dataiter = iter(testloader)\n",
    "images, labels = dataiter.next()\n",
    "\n",
    "# imprimir algunos ejemplos y la etiqueta original (la verdad)\n",
    "imshow(torchvision.utils.make_grid(images))\n",
    "print('Etiqueta verdadera: ', ' '.join('%5s' % classes[labels[j]] for j in range(10)))"
   ]
  },
  {
   "cell_type": "markdown",
   "metadata": {},
   "source": [
    "Ahora se hace una prueba con esos mismo ejemplos"
   ]
  },
  {
   "cell_type": "code",
   "execution_count": 29,
   "metadata": {},
   "outputs": [
    {
     "name": "stdout",
     "output_type": "stream",
     "text": [
      "torch.Size([10, 90])\n",
      "Predicción:    rat dragonfly raccoon raccoon   rat raccoon snake snake snake rhinoceros\n"
     ]
    }
   ],
   "source": [
    "outputs = net(images)\n",
    "print(outputs.shape)\n",
    "\n",
    "\n",
    "# esta salida tiene las 10 neuronas que representan las 10 clases involucradas en la clasificación\n",
    "\n",
    "_, predicted = torch.min(abs(outputs), 1)\n",
    "\n",
    "print('Predicción: ', ' '.join('%5s' % classes[predicted[j]]\n",
    "                              for j in range(10)))"
   ]
  },
  {
   "cell_type": "markdown",
   "metadata": {},
   "source": [
    "Note que la predicción se puede comparar con lo indicado en la descripción original\n",
    "\n",
    "A continuación se va a calcular la presición del modelo:"
   ]
  },
  {
   "cell_type": "code",
   "execution_count": 31,
   "metadata": {},
   "outputs": [
    {
     "name": "stdout",
     "output_type": "stream",
     "text": [
      "Exactitud de la red en las 1350 imágenes de entrenamiento y las 10 de prueba: 1 %\n"
     ]
    }
   ],
   "source": [
    "# Se toma todos los datos de prueba y se verifica si el modelo realiza\n",
    "# bien la predicción para cada uno. \n",
    "\n",
    "#Cantidad de imágenes clasificadas correctamente.\n",
    "correct = 0\n",
    "\n",
    "#Imágenes totales\n",
    "total = 0\n",
    "\n",
    "with torch.no_grad():\n",
    "    for data in testloader:\n",
    "        # Datos de las imágenes y etiquetas\n",
    "        images, labels = data\n",
    "        \n",
    "        # Forward de las imágenes en el modelo.\n",
    "        outputs = net(images)\n",
    "        \n",
    "        # Clase a la que pertece cada imagen\n",
    "        _, predicted = torch.max(outputs.data, 1)\n",
    "        total += labels.size(0)\n",
    "        correct += (predicted == labels).sum().item()\n",
    "\n",
    "print('Exactitud de la red en las 1350 imágenes de entrenamiento y las 10 de prueba: %d %%' % (\n",
    "    100 * correct / total))"
   ]
  },
  {
   "cell_type": "markdown",
   "metadata": {},
   "source": [
    "Como parte del cálculo de las estadísticas se muestra los resultados por cada clase"
   ]
  },
  {
   "cell_type": "code",
   "execution_count": 45,
   "metadata": {},
   "outputs": [
    {
     "name": "stdout",
     "output_type": "stream",
     "text": [
      "Exactitud en antelope :  0 %\n",
      "Exactitud en badger :  0 %\n",
      "Exactitud en   bat :  0 %\n",
      "Exactitud en  bear :  0 %\n",
      "Exactitud en   bee :  0 %\n",
      "Exactitud en beetle :  0 %\n",
      "Exactitud en bison :  0 %\n",
      "Exactitud en  boar :  0 %\n",
      "Exactitud en butterfly :  0 %\n",
      "Exactitud en   cat :  0 %\n"
     ]
    }
   ],
   "source": [
    "# Se toma todos los datos de prueba y se verifica si el modelo realiza\n",
    "# bien la predicción para cada una de las 10 clases individuales. \n",
    "\n",
    "# Cantidad de imágenes correctamente clasificadas por clase\n",
    "class_correct = list(0. for i in range(90))\n",
    "\n",
    "# Cantidad de imágenes por clase.\n",
    "class_total = list(0. for i in range(90))\n",
    "\n",
    "#Para todas las imágenes de prueba se realiza el forward\n",
    "# y se evalúa si el resultado fue el correcto y la clase \n",
    "# a la que pertenece la imagen.\n",
    "with torch.no_grad():\n",
    "    for data in testloader:\n",
    "        #Se dividen las imágenes de las etiquetas.\n",
    "        images, labels = data\n",
    "        \n",
    "        #Se clasificacn las imágenes usando el modelo.\n",
    "        outputs = net(images)\n",
    "        _, predicted = torch.max(outputs, 1)\n",
    "        \n",
    "        #Se compara el resultado de la predicción con el \n",
    "        # valor esperado y se cuentan los casos exitosos por clase.\n",
    "        c = (predicted == labels).squeeze()\n",
    "        for i in range(4):\n",
    "            label = labels[i]\n",
    "            class_correct[label] += c[i].item()\n",
    "            class_total[label] += 1\n",
    "\n",
    "# Se imprime el resultado\n",
    "for i in range(10):\n",
    "    print('Exactitud en %5s : %2d %%' % (\n",
    "        classes[i], 100 * class_correct[i] / class_total[i]))"
   ]
  },
  {
   "cell_type": "markdown",
   "metadata": {},
   "source": [
    "### 8) Evalue métricas en con los resultados\n",
    "\n",
    "A continuación se muestran las métricas de exactitud, precisión recall y F1 (todos los resultados se muestran por medio de prints)"
   ]
  },
  {
   "cell_type": "code",
   "execution_count": 44,
   "metadata": {},
   "outputs": [
    {
     "name": "stdout",
     "output_type": "stream",
     "text": [
      "MATRIZ DE CONFUSION\n",
      "\t snake \t horse \t bee \t squid \t rhinoceros \t gorilla \t boar \t rat \t pig \t sparrow \t\n",
      "badger \t\t 0\t\t0\t\t0\t\t1\t\t0\t\t0\t\t0\t\t0\t\t0\t\t0\t\t0\t\t\n",
      "bat \t\t 0\t\t0\t\t0\t\t1\t\t0\t\t0\t\t0\t\t0\t\t0\t\t0\t\t0\t\t\n",
      "bear \t\t 0\t\t0\t\t0\t\t1\t\t0\t\t0\t\t0\t\t0\t\t0\t\t0\t\t0\t\t\n",
      "bee \t\t 0\t\t0\t\t0\t\t0\t\t0\t\t0\t\t0\t\t0\t\t0\t\t0\t\t0\t\t\n",
      "beetle \t\t 0\t\t0\t\t0\t\t1\t\t0\t\t0\t\t0\t\t0\t\t0\t\t0\t\t0\t\t\n",
      "bison \t\t 0\t\t0\t\t0\t\t1\t\t0\t\t0\t\t0\t\t0\t\t0\t\t0\t\t0\t\t\n",
      "boar \t\t 0\t\t0\t\t0\t\t1\t\t0\t\t0\t\t0\t\t0\t\t0\t\t0\t\t0\t\t\n",
      "butterfly \t\t 0\t\t0\t\t0\t\t1\t\t0\t\t0\t\t0\t\t0\t\t0\t\t0\t\t0\t\t\n",
      "cat \t\t 0\t\t0\t\t0\t\t1\t\t0\t\t0\t\t0\t\t0\t\t0\t\t0\t\t0\t\t\n",
      "caterpillar \t\t 0\t\t0\t\t0\t\t1\t\t0\t\t0\t\t0\t\t0\t\t0\t\t0\t\t0\t\t\n",
      "chimpanzee \t\t 0\t\t0\t\t0\t\t1\t\t0\t\t0\t\t0\t\t0\t\t0\t\t0\t\t0\t\t\n",
      "\n",
      "EXACTITUD: la proporción de prediccones que el modelo clasificó correctamente en el total de clases del modelo\n",
      "0.0\n",
      "\n",
      "PRECISIÓN: Proporción de instancias correctas entre las recuperadas solamente considerando las positivas\n",
      "precisión en la clase  1  es  1.0\n",
      "precisión en la clase  2  es  1.0\n",
      "precisión en la clase  3  es  1.0\n",
      "precisión en la clase  4  es  0.0\n",
      "precisión en la clase  5  es  1.0\n",
      "precisión en la clase  6  es  1.0\n",
      "precisión en la clase  7  es  1.0\n",
      "precisión en la clase  8  es  1.0\n",
      "precisión en la clase  9  es  1.0\n",
      "precisión en la clase  10  es  1.0\n",
      "precisión en la clase  11  es  1.0\n",
      "\n",
      "EXHAUSTIVIDAD: proporción de positivos que se identificó correctamente\n",
      "exhaustividad en la clase  1  es  0.0\n",
      "exhaustividad en la clase  2  es  0.0\n",
      "exhaustividad en la clase  3  es  0.0\n",
      "exhaustividad en la clase  4  es  0.0\n",
      "exhaustividad en la clase  5  es  0.0\n",
      "exhaustividad en la clase  6  es  0.0\n",
      "exhaustividad en la clase  7  es  0.0\n",
      "exhaustividad en la clase  8  es  0.0\n",
      "exhaustividad en la clase  9  es  0.0\n",
      "exhaustividad en la clase  10  es  0.0\n",
      "exhaustividad en la clase  11  es  0.0\n",
      "\n",
      "F1: equilibrio entre la precisión y el recall\n",
      "f1 en la clase  1  es  0.0\n",
      "f1 en la clase  2  es  0.0\n",
      "f1 en la clase  3  es  0.0\n",
      "f1 en la clase  4  es  0.0\n",
      "f1 en la clase  5  es  0.0\n",
      "f1 en la clase  6  es  0.0\n",
      "f1 en la clase  7  es  0.0\n",
      "f1 en la clase  8  es  0.0\n",
      "f1 en la clase  9  es  0.0\n",
      "f1 en la clase  10  es  0.0\n",
      "f1 en la clase  11  es  0.0\n"
     ]
    },
    {
     "name": "stderr",
     "output_type": "stream",
     "text": [
      "c:\\Users\\juan navarro\\AppData\\Local\\Programs\\Python\\Python39\\lib\\site-packages\\sklearn\\metrics\\_classification.py:1318: UndefinedMetricWarning: Recall is ill-defined and being set to 0.0 in labels with no true samples. Use `zero_division` parameter to control this behavior.\n",
      "  _warn_prf(average, modifier, msg_start, len(result))\n"
     ]
    }
   ],
   "source": [
    "# Matriz de confusión:\n",
    "# Como entrada se toman las listas que contienen los valores predecidos por el\n",
    "# modelo en la variable 'pred' y en la variable 'y' los valores esperados por\n",
    "# el modelo\n",
    "\n",
    "# la bilbioteca skilearn contiene los siguientes métodos para realizar los cáculos\n",
    "# métricas extraidas del modelo\n",
    "\n",
    "# Como esta matriz corresponde a una formada por varias clases el valor que se representa\n",
    "# en cada elemento son los casos que funcionaron, por ejemplo en la posición 3, 3 se muestran\n",
    "# la cantidad de valores 3 que tuvieron un valor predecido igual a 3\n",
    "\n",
    "print(\"MATRIZ DE CONFUSION\")\n",
    "confusion = confusion_matrix(labels, predicted)\n",
    "print(\"\\t\",classes[labels[0]],\"\\t\",classes[labels[1]],\"\\t\",classes[labels[2]],\"\\t\",classes[labels[3]],\"\\t\",classes[labels[4]],\"\\t\",classes[labels[5]],\"\\t\",classes[labels[6]],\"\\t\",classes[labels[7]],\"\\t\",classes[labels[8]],\"\\t\",classes[labels[9]],\"\\t\")\n",
    "for i in range(11):\n",
    "    texto = \"\"\n",
    "    for j in range(11):\n",
    "        texto += str(confusion[i][j]) + \"\\t\\t\"\n",
    "\n",
    "    print(classes[i+1], \"\\t\\t\", texto)\n",
    "\n",
    "# Exactitud: la proporciónd e prediccones que el modelo clasificó correctamente\n",
    "\n",
    "print(\"\\nEXACTITUD: la proporción de prediccones que el modelo clasificó correctamente en el total de clases del modelo\")\n",
    "print(accuracy_score(labels, predicted))\n",
    "\n",
    "# Precisión: porcentaje de los identificadores positivos que fueron recuperados\n",
    "print(\"\\nPRECISIÓN: Proporción de instancias correctas entre las recuperadas solamente considerando las positivas\")\n",
    "\n",
    "presicion = precision_score(labels, predicted, average=None, zero_division=True)\n",
    "\n",
    "for i in range(11):\n",
    "    print(\"precisión en la clase \", i+1, \" es \", presicion[i])\n",
    "\n",
    "\n",
    "# Exhausitividad: proporción de positivos que se identificó correctamente\n",
    "print(\"\\nEXHAUSTIVIDAD: proporción de positivos que se identificó correctamente\")\n",
    "\n",
    "exhaustividad = recall_score(labels, predicted, average= None)\n",
    "\n",
    "for i in range(11):\n",
    "    print(\"exhaustividad en la clase \", i+1, \" es \", exhaustividad[i])\n",
    "\n",
    "\n",
    "# F1: equilibrio entra la precisión y el recall\n",
    "print(\"\\nF1: equilibrio entre la precisión y el recall\")\n",
    "\n",
    "f1= f1_score(labels, predicted, average=None)\n",
    "\n",
    "for i in range(11):\n",
    "    print(\"f1 en la clase \", i+1, \" es \", f1[i])"
   ]
  },
  {
   "cell_type": "markdown",
   "metadata": {},
   "source": [
    "### 10) Analice los resultados\n",
    "\n",
    "Note que los resultados no se acercan a lo esperado, en general nadie confiaría un modelo con estadísticas tan bajas. Para mejorar el modelo se tiene la opción de que este analice más muestras y que no se quede con la pequeña parte que se definió desde un principio. La razón de por qué no se hizo esto es por que la cantidad de datos a analizar es grande y la generación del modelo estaba tardando tanto en mi computadora que la aplicación se caía. Si se cuenta con una computadora más potente se podría llegar a tener un modelo lo suficientemente robusto para este dataset o alguno de más clases inclusive. Además cada una de las imágenes al ser de tanta calidad necesitaba un análisis de muchos pixeles por lo que hace el proceso más lento para una computadora personal.\n",
    "\n",
    "Otro cambio que puede mejorar el rendimiento de la red es en la definición de la red convolucional (clase CNNet) se pueden considerar más capas para que el análisis pase por más etapas de análisis  así mejorar las predicciones que este mismo puede tener. Igual, esto no se aplicó por la limitación mencionada anteriormente, aunque sí se intentó.\n",
    "\n",
    "Una posible solución que haría el ejercicio un poco más atractivo es borrarle imágenes al modelo, ya que este tiene tantas clases eso es posible que hiciera que se necesitara un procesamiento muy alto."
   ]
  },
  {
   "cell_type": "markdown",
   "metadata": {},
   "source": [
    "### 11) Conclusiones\n",
    "\n",
    "- Las redes neuronales convolucionales permiten mejorar la efectividad de los perceptrones multicapa por medio de un análisis por partes de la entrada y no al realizar un análisis de todo de golpe.\n",
    "\n",
    "- Estas redes son útiles para el reconocimiento de patrones y entrenamiento de modelos de reconocimiento en imágenes, ya que las imágenes poseen una gran cantidad de datos que pueden durar mucho tiempo en un análisis de perceptrón multicapa normal.\n",
    "\n",
    "- Un modelo de tamaño mediano como el analizado en este ejemplo necesita que se le realice un análisis más completo que el realizado para dar una mejor predicción. Como se trata de 90 capas muchas de estas no llegaron a analizarse correctamente con la parte de los datos iniciales que se realizó el análisis.\n",
    "\n",
    "- Con una computadora más potente se puede entrenar el modelo con todos los datos que brinda el repositorio utilizado e incluso se podrían tomar imágenes externas a este para ser analizadas por medio de este modelo.\n",
    "\n",
    "- La alta calidad de las imágenes en el repositorio generó que el análisis se limitara a pocas imágenes porque la cantidad de procesamiento era bastante alta para una computadora personal como la mía."
   ]
  },
  {
   "cell_type": "markdown",
   "metadata": {},
   "source": [
    "## Referencias\n",
    "\n",
    "Mora, María (2022) \"Redes Neuronales Convolucionales\". Instituto Tecnológico de Costa Rica. I Semestre 2022.\n",
    "\n",
    "Lei, L (2019) \"Intro-to-Pytorch: Loading Image Data\". Disponible en: https://www.kaggle.com/code/leifuer/intro-to-pytorch-loading-image-data/notebook\n",
    "\n",
    "Issaev, S. (2020) \"Beginner's Guide to Loading Image Data with Pytorch\". Disponible en: https://towardsdatascience.com/beginners-guide-to-loading-image-data-with-pytorch-289c60b7afec\n"
   ]
  }
 ],
 "metadata": {
  "interpreter": {
   "hash": "e868495d694aed0b609784ddbe0f4170fa3a0dc0623318ab45c72f62595d740c"
  },
  "kernelspec": {
   "display_name": "Python 3.9.0 64-bit",
   "language": "python",
   "name": "python3"
  },
  "language_info": {
   "codemirror_mode": {
    "name": "ipython",
    "version": 3
   },
   "file_extension": ".py",
   "mimetype": "text/x-python",
   "name": "python",
   "nbconvert_exporter": "python",
   "pygments_lexer": "ipython3",
   "version": "3.9.0"
  },
  "orig_nbformat": 4
 },
 "nbformat": 4,
 "nbformat_minor": 2
}
