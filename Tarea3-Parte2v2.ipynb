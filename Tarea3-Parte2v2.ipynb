{
 "cells": [
  {
   "cell_type": "markdown",
   "metadata": {},
   "source": [
    "### Instituto Tecnológico de Costa Rica (ITCR)\n",
    "### Escuela de Computación\n",
    "### Curso: Inteligencia Artificial\n",
    " \n",
    "### Tercera tarea programada 2022-I\n",
    "\n",
    "### Parte 2 - ejercicio 2\n",
    "\n",
    "\n",
    "Estudiantes: Juan Ignacio Navarro Navarro"
   ]
  },
  {
   "cell_type": "markdown",
   "metadata": {},
   "source": [
    "### 1) Descripción del problema y el objetivo del ejercicio\n",
    "\n",
    "Se desea utilizar una red neuronal recurrente LSTM utilzando pytorch para realizar un algortimo capaz de predecir la calificación dada por un comprrador. Estas calificaciones están relacionadas a el servicio de alquiler de apartamentos en una página web.\n",
    "\n",
    "Se utilizará como base para entrenar el modelo los datos de miles de revisiones anteriores y su respectiva calificación.\n",
    "\n",
    "El objetivo de este ejercicio es experimentar con el flujo completo de trabajo en un proyecto de aprendizaje automático para realizar análisis de sentimientos a partir de datos en lenguaje natural."
   ]
  },
  {
   "cell_type": "markdown",
   "metadata": {},
   "source": [
    "### 2) Datos utilizados en el ejercicio\n",
    "\n",
    "Para este ejercicio se tomarán datos relacionados a las calificaciones de los usuarios usando el lenguaje natural para determinar el nivel de satisfacción con el servicio en el alquiler de apartamentos. \n",
    "\n",
    "Estos datos se encuentran en la siguiente dirección https://www.kaggle.com/code/wiktorbrk/trip-advisor-reviews-sentiment-analysis/notebook  de igual forma estos no son tan pesados como los del ejercicio anterior por lo que sí se incluyen en los datos en el zip de la entrega en el csv llamado tripadvisor_hotel_reviews.csv.\n",
    "\n",
    "Note que este archivo está compuesto de aproximadamente 20500 opiniones que dividen en lo siguiente:\n",
    "\n",
    "- review: la opinión textual de un cliente utilizando el lenguaje natural\n",
    "- rating: es un número de  1 a 5 añadido por el mismo usuario. "
   ]
  },
  {
   "cell_type": "markdown",
   "metadata": {},
   "source": [
    "### 3) Cargue y prepare los datos para ser introducidos a la red LSTM\n",
    "\n",
    "Primero se procede a importar las bilbiotecas necesarias para el ejercicio"
   ]
  },
  {
   "cell_type": "code",
   "execution_count": 143,
   "metadata": {},
   "outputs": [],
   "source": [
    "# Bibliotecas requeridas\n",
    "import torch\n",
    "import torch.nn as nn\n",
    "import pandas as pd\n",
    "import numpy as np\n",
    "import re\n",
    "import spacy\n",
    "from collections import Counter\n",
    "from torch.utils.data import Dataset, DataLoader\n",
    "import torch.nn.functional as F\n",
    "import string\n",
    "from torch.nn.utils.rnn import pack_padded_sequence, pad_packed_sequence\n",
    "from sklearn.metrics import mean_squared_error\n",
    "from matplotlib import pyplot\n",
    "from sklearn.metrics import confusion_matrix\n",
    "from sklearn.metrics import accuracy_score\n",
    "from sklearn.metrics import recall_score\n",
    "from sklearn.metrics import f1_score\n",
    "from sklearn.metrics import precision_score\n",
    "\n",
    "\n"
   ]
  },
  {
   "cell_type": "markdown",
   "metadata": {},
   "source": [
    "Carga de los datos utilizando pandas"
   ]
  },
  {
   "cell_type": "code",
   "execution_count": 144,
   "metadata": {},
   "outputs": [
    {
     "name": "stdout",
     "output_type": "stream",
     "text": [
      "(20491, 2)\n"
     ]
    },
    {
     "data": {
      "text/html": [
       "<div>\n",
       "<style scoped>\n",
       "    .dataframe tbody tr th:only-of-type {\n",
       "        vertical-align: middle;\n",
       "    }\n",
       "\n",
       "    .dataframe tbody tr th {\n",
       "        vertical-align: top;\n",
       "    }\n",
       "\n",
       "    .dataframe thead th {\n",
       "        text-align: right;\n",
       "    }\n",
       "</style>\n",
       "<table border=\"1\" class=\"dataframe\">\n",
       "  <thead>\n",
       "    <tr style=\"text-align: right;\">\n",
       "      <th></th>\n",
       "      <th>Review</th>\n",
       "      <th>Rating</th>\n",
       "    </tr>\n",
       "  </thead>\n",
       "  <tbody>\n",
       "    <tr>\n",
       "      <th>0</th>\n",
       "      <td>nice hotel expensive parking got good deal sta...</td>\n",
       "      <td>4</td>\n",
       "    </tr>\n",
       "    <tr>\n",
       "      <th>1</th>\n",
       "      <td>ok nothing special charge diamond member hilto...</td>\n",
       "      <td>2</td>\n",
       "    </tr>\n",
       "    <tr>\n",
       "      <th>2</th>\n",
       "      <td>nice rooms not 4* experience hotel monaco seat...</td>\n",
       "      <td>3</td>\n",
       "    </tr>\n",
       "    <tr>\n",
       "      <th>3</th>\n",
       "      <td>unique, great stay, wonderful time hotel monac...</td>\n",
       "      <td>5</td>\n",
       "    </tr>\n",
       "    <tr>\n",
       "      <th>4</th>\n",
       "      <td>great stay great stay, went seahawk game aweso...</td>\n",
       "      <td>5</td>\n",
       "    </tr>\n",
       "  </tbody>\n",
       "</table>\n",
       "</div>"
      ],
      "text/plain": [
       "                                              Review  Rating\n",
       "0  nice hotel expensive parking got good deal sta...       4\n",
       "1  ok nothing special charge diamond member hilto...       2\n",
       "2  nice rooms not 4* experience hotel monaco seat...       3\n",
       "3  unique, great stay, wonderful time hotel monac...       5\n",
       "4  great stay great stay, went seahawk game aweso...       5"
      ]
     },
     "execution_count": 144,
     "metadata": {},
     "output_type": "execute_result"
    }
   ],
   "source": [
    "# Leer los datos de ejemplos\n",
    "reviews = pd.read_csv(\"tripadvisor_hotel_reviews.csv\")\n",
    "print(reviews.shape)\n",
    "reviews.head()"
   ]
  },
  {
   "cell_type": "code",
   "execution_count": 145,
   "metadata": {},
   "outputs": [
    {
     "data": {
      "text/html": [
       "<div>\n",
       "<style scoped>\n",
       "    .dataframe tbody tr th:only-of-type {\n",
       "        vertical-align: middle;\n",
       "    }\n",
       "\n",
       "    .dataframe tbody tr th {\n",
       "        vertical-align: top;\n",
       "    }\n",
       "\n",
       "    .dataframe thead th {\n",
       "        text-align: right;\n",
       "    }\n",
       "</style>\n",
       "<table border=\"1\" class=\"dataframe\">\n",
       "  <thead>\n",
       "    <tr style=\"text-align: right;\">\n",
       "      <th></th>\n",
       "      <th>review</th>\n",
       "      <th>rating</th>\n",
       "      <th>review_length</th>\n",
       "    </tr>\n",
       "  </thead>\n",
       "  <tbody>\n",
       "    <tr>\n",
       "      <th>0</th>\n",
       "      <td>nice hotel expensive parking got good deal sta...</td>\n",
       "      <td>4</td>\n",
       "      <td>87</td>\n",
       "    </tr>\n",
       "    <tr>\n",
       "      <th>1</th>\n",
       "      <td>ok nothing special charge diamond member hilto...</td>\n",
       "      <td>2</td>\n",
       "      <td>250</td>\n",
       "    </tr>\n",
       "    <tr>\n",
       "      <th>2</th>\n",
       "      <td>nice rooms not 4* experience hotel monaco seat...</td>\n",
       "      <td>3</td>\n",
       "      <td>217</td>\n",
       "    </tr>\n",
       "    <tr>\n",
       "      <th>3</th>\n",
       "      <td>unique, great stay, wonderful time hotel monac...</td>\n",
       "      <td>5</td>\n",
       "      <td>89</td>\n",
       "    </tr>\n",
       "    <tr>\n",
       "      <th>4</th>\n",
       "      <td>great stay great stay, went seahawk game aweso...</td>\n",
       "      <td>5</td>\n",
       "      <td>191</td>\n",
       "    </tr>\n",
       "    <tr>\n",
       "      <th>5</th>\n",
       "      <td>love monaco staff husband stayed hotel crazy w...</td>\n",
       "      <td>5</td>\n",
       "      <td>134</td>\n",
       "    </tr>\n",
       "    <tr>\n",
       "      <th>6</th>\n",
       "      <td>cozy stay rainy city, husband spent 7 nights m...</td>\n",
       "      <td>5</td>\n",
       "      <td>101</td>\n",
       "    </tr>\n",
       "    <tr>\n",
       "      <th>7</th>\n",
       "      <td>excellent staff, housekeeping quality hotel ch...</td>\n",
       "      <td>4</td>\n",
       "      <td>85</td>\n",
       "    </tr>\n",
       "    <tr>\n",
       "      <th>8</th>\n",
       "      <td>hotel stayed hotel monaco cruise, rooms genero...</td>\n",
       "      <td>5</td>\n",
       "      <td>59</td>\n",
       "    </tr>\n",
       "    <tr>\n",
       "      <th>9</th>\n",
       "      <td>excellent stayed hotel monaco past w/e delight...</td>\n",
       "      <td>5</td>\n",
       "      <td>35</td>\n",
       "    </tr>\n",
       "    <tr>\n",
       "      <th>10</th>\n",
       "      <td>poor value stayed monaco seattle july, nice ho...</td>\n",
       "      <td>2</td>\n",
       "      <td>47</td>\n",
       "    </tr>\n",
       "    <tr>\n",
       "      <th>11</th>\n",
       "      <td>nice value seattle stayed 4 nights late 2007. ...</td>\n",
       "      <td>4</td>\n",
       "      <td>52</td>\n",
       "    </tr>\n",
       "    <tr>\n",
       "      <th>12</th>\n",
       "      <td>nice hotel good location hotel kimpton design ...</td>\n",
       "      <td>4</td>\n",
       "      <td>84</td>\n",
       "    </tr>\n",
       "    <tr>\n",
       "      <th>13</th>\n",
       "      <td>nice hotel not nice staff hotel lovely staff q...</td>\n",
       "      <td>3</td>\n",
       "      <td>70</td>\n",
       "    </tr>\n",
       "    <tr>\n",
       "      <th>14</th>\n",
       "      <td>great hotel night quick business trip, loved l...</td>\n",
       "      <td>4</td>\n",
       "      <td>27</td>\n",
       "    </tr>\n",
       "    <tr>\n",
       "      <th>15</th>\n",
       "      <td>horrible customer service hotel stay february ...</td>\n",
       "      <td>1</td>\n",
       "      <td>214</td>\n",
       "    </tr>\n",
       "    <tr>\n",
       "      <th>16</th>\n",
       "      <td>disappointed say anticipating stay hotel monac...</td>\n",
       "      <td>2</td>\n",
       "      <td>242</td>\n",
       "    </tr>\n",
       "    <tr>\n",
       "      <th>17</th>\n",
       "      <td>fantastic stay monaco seattle hotel monaco hol...</td>\n",
       "      <td>5</td>\n",
       "      <td>144</td>\n",
       "    </tr>\n",
       "    <tr>\n",
       "      <th>18</th>\n",
       "      <td>good choice hotel recommended sister, great lo...</td>\n",
       "      <td>5</td>\n",
       "      <td>22</td>\n",
       "    </tr>\n",
       "    <tr>\n",
       "      <th>19</th>\n",
       "      <td>hmmmmm say really high hopes hotel monaco chos...</td>\n",
       "      <td>3</td>\n",
       "      <td>156</td>\n",
       "    </tr>\n",
       "  </tbody>\n",
       "</table>\n",
       "</div>"
      ],
      "text/plain": [
       "                                               review  rating  review_length\n",
       "0   nice hotel expensive parking got good deal sta...       4             87\n",
       "1   ok nothing special charge diamond member hilto...       2            250\n",
       "2   nice rooms not 4* experience hotel monaco seat...       3            217\n",
       "3   unique, great stay, wonderful time hotel monac...       5             89\n",
       "4   great stay great stay, went seahawk game aweso...       5            191\n",
       "5   love monaco staff husband stayed hotel crazy w...       5            134\n",
       "6   cozy stay rainy city, husband spent 7 nights m...       5            101\n",
       "7   excellent staff, housekeeping quality hotel ch...       4             85\n",
       "8   hotel stayed hotel monaco cruise, rooms genero...       5             59\n",
       "9   excellent stayed hotel monaco past w/e delight...       5             35\n",
       "10  poor value stayed monaco seattle july, nice ho...       2             47\n",
       "11  nice value seattle stayed 4 nights late 2007. ...       4             52\n",
       "12  nice hotel good location hotel kimpton design ...       4             84\n",
       "13  nice hotel not nice staff hotel lovely staff q...       3             70\n",
       "14  great hotel night quick business trip, loved l...       4             27\n",
       "15  horrible customer service hotel stay february ...       1            214\n",
       "16  disappointed say anticipating stay hotel monac...       2            242\n",
       "17  fantastic stay monaco seattle hotel monaco hol...       5            144\n",
       "18  good choice hotel recommended sister, great lo...       5             22\n",
       "19  hmmmmm say really high hopes hotel monaco chos...       3            156"
      ]
     },
     "execution_count": 145,
     "metadata": {},
     "output_type": "execute_result"
    }
   ],
   "source": [
    "# Seleccionar las columnas relevantes y calcular la longitud de las oraciones\n",
    "reviews = reviews[['Review', 'Rating']]\n",
    "reviews.columns = ['review', 'rating']\n",
    "reviews['review_length'] = reviews['review'].apply(lambda x: len(x.split()))\n",
    "reviews.head(20)"
   ]
  },
  {
   "cell_type": "code",
   "execution_count": 146,
   "metadata": {},
   "outputs": [],
   "source": [
    "#Cambio de la numeración de la clasificaciones de 0 a 4\n",
    "zero_numbering = {1:0, 2:1, 3:2, 4:3, 5:4}\n",
    "reviews['rating'] = reviews['rating'].apply(lambda x: zero_numbering[x])"
   ]
  },
  {
   "cell_type": "markdown",
   "metadata": {},
   "source": [
    "Carga de las principales estadísitcas de los datos, note que se muestran la cantidad de datos definidos y diferentes medidas de tendencia central de los mismos"
   ]
  },
  {
   "cell_type": "code",
   "execution_count": 147,
   "metadata": {},
   "outputs": [
    {
     "data": {
      "text/html": [
       "<div>\n",
       "<style scoped>\n",
       "    .dataframe tbody tr th:only-of-type {\n",
       "        vertical-align: middle;\n",
       "    }\n",
       "\n",
       "    .dataframe tbody tr th {\n",
       "        vertical-align: top;\n",
       "    }\n",
       "\n",
       "    .dataframe thead th {\n",
       "        text-align: right;\n",
       "    }\n",
       "</style>\n",
       "<table border=\"1\" class=\"dataframe\">\n",
       "  <thead>\n",
       "    <tr style=\"text-align: right;\">\n",
       "      <th></th>\n",
       "      <th>rating</th>\n",
       "      <th>review_length</th>\n",
       "    </tr>\n",
       "  </thead>\n",
       "  <tbody>\n",
       "    <tr>\n",
       "      <th>count</th>\n",
       "      <td>20491.00</td>\n",
       "      <td>20491.00</td>\n",
       "    </tr>\n",
       "    <tr>\n",
       "      <th>mean</th>\n",
       "      <td>2.95</td>\n",
       "      <td>104.38</td>\n",
       "    </tr>\n",
       "    <tr>\n",
       "      <th>std</th>\n",
       "      <td>1.23</td>\n",
       "      <td>100.66</td>\n",
       "    </tr>\n",
       "    <tr>\n",
       "      <th>min</th>\n",
       "      <td>0.00</td>\n",
       "      <td>7.00</td>\n",
       "    </tr>\n",
       "    <tr>\n",
       "      <th>25%</th>\n",
       "      <td>2.00</td>\n",
       "      <td>48.00</td>\n",
       "    </tr>\n",
       "    <tr>\n",
       "      <th>50%</th>\n",
       "      <td>3.00</td>\n",
       "      <td>77.00</td>\n",
       "    </tr>\n",
       "    <tr>\n",
       "      <th>75%</th>\n",
       "      <td>4.00</td>\n",
       "      <td>124.00</td>\n",
       "    </tr>\n",
       "    <tr>\n",
       "      <th>max</th>\n",
       "      <td>4.00</td>\n",
       "      <td>1931.00</td>\n",
       "    </tr>\n",
       "  </tbody>\n",
       "</table>\n",
       "</div>"
      ],
      "text/plain": [
       "        rating  review_length\n",
       "count 20491.00       20491.00\n",
       "mean      2.95         104.38\n",
       "std       1.23         100.66\n",
       "min       0.00           7.00\n",
       "25%       2.00          48.00\n",
       "50%       3.00          77.00\n",
       "75%       4.00         124.00\n",
       "max       4.00        1931.00"
      ]
     },
     "execution_count": 147,
     "metadata": {},
     "output_type": "execute_result"
    }
   ],
   "source": [
    "# Estadísticas\n",
    "pd.set_option('display.float_format', lambda x: '%.2f' % x)\n",
    "reviews.describe()"
   ]
  },
  {
   "cell_type": "markdown",
   "metadata": {},
   "source": [
    "Tokenización y preparación de los datos para ser introducidos a la red LSTM, estos tokens son necesarios para poder distinguir entre las palabras"
   ]
  },
  {
   "cell_type": "code",
   "execution_count": 148,
   "metadata": {},
   "outputs": [
    {
     "name": "stdout",
     "output_type": "stream",
     "text": [
      "num_words before: 49116\n",
      "num_words after: 25185\n"
     ]
    }
   ],
   "source": [
    "# Tokenización: proceso de separar un fragmento de texto en \n",
    "#  unidades más pequeñas llamadas tokens. \n",
    "#  Los tokens pueden ser palabras, caracteres o sub-palabras.\n",
    "tok = spacy.blank(\"en\")\n",
    "\n",
    "def tokenize (text):\n",
    "    text = re.sub(r\"[^\\x00-\\x7F]+\", \" \", text)\n",
    "    regex = re.compile('[' + re.escape(string.punctuation) + '0-9\\\\r\\\\t\\\\n]') # remove punctuation and numbers\n",
    "    nopunct = regex.sub(\" \", text.lower())\n",
    "    return [token.text for token in tok.tokenizer(nopunct)]\n",
    "\n",
    "# Se cuenta la cantidad de ocurrencias de cada token \n",
    "# en el corpus.\n",
    "\n",
    "#count number of occurences of each word\n",
    "counts = Counter()\n",
    "for index, row in reviews.iterrows():\n",
    "    counts.update(tokenize(row['review']))\n",
    "\n",
    "# Se eliminan los tokens que no ocurren con mucha frecuencia (menos de dos veces). \n",
    "print(\"num_words before:\",len(counts.keys()))\n",
    "for word in list(counts):\n",
    "    if counts[word] < 2:\n",
    "        del counts[word]\n",
    "print(\"num_words after:\",len(counts.keys()))\n"
   ]
  },
  {
   "cell_type": "code",
   "execution_count": 149,
   "metadata": {},
   "outputs": [],
   "source": [
    "# Se crea el vocabulario\n",
    "vocab2index = {\"\":0, \"UNK\":1}\n",
    "words = [\"\", \"UNK\"]\n",
    "for word in counts:\n",
    "    vocab2index[word] = len(words)\n",
    "    words.append(word)\n",
    "\n"
   ]
  },
  {
   "cell_type": "markdown",
   "metadata": {},
   "source": [
    "Encodificación de las oraciones, note que se toma un máximo de 70 palabras como máximo por cada texto"
   ]
  },
  {
   "cell_type": "code",
   "execution_count": 150,
   "metadata": {},
   "outputs": [
    {
     "name": "stdout",
     "output_type": "stream",
     "text": [
      "                                              review  rating  review_length  \\\n",
      "0  nice hotel expensive parking got good deal sta...       3             87   \n",
      "1  ok nothing special charge diamond member hilto...       1            250   \n",
      "2  nice rooms not 4* experience hotel monaco seat...       2            217   \n",
      "3  unique, great stay, wonderful time hotel monac...       4             89   \n",
      "4  great stay great stay, went seahawk game aweso...       4            191   \n",
      "\n",
      "                                             encoded  \n",
      "0  [[2, 3, 4, 5, 6, 7, 8, 9, 3, 10, 11, 12, 13, 1...  \n",
      "1  [[79, 80, 81, 82, 83, 84, 85, 86, 87, 88, 78, ...  \n",
      "2  [[2, 234, 39, 77, 74, 3, 235, 90, 7, 3, 236, 2...  \n",
      "3  [[347, 11, 69, 9, 11, 348, 349, 3, 235, 11, 68...  \n",
      "4  [[69, 9, 69, 9, 11, 393, 394, 395, 396, 11, 39...  \n"
     ]
    }
   ],
   "source": [
    "def encode_sentence(text, vocab2index, N=70):\n",
    "    \"\"\"\n",
    "    Codificación de una oración antes de ser utilizada por el modelo. \n",
    "    Parámetros:\n",
    "       text: el texto a procesar\n",
    "       vocab2index: diccionario con el vocabulario a utilizar. \n",
    "       N: largo máximo\n",
    "    \"\"\"\n",
    "    tokenized = tokenize(text)\n",
    "    encoded = np.zeros(N, dtype=int)\n",
    "    \n",
    "    # El get en diccionario permite definir un valor si un item no existe (\"UNK\").  \n",
    "    enc1 = np.array([vocab2index.get(word, vocab2index[\"UNK\"]) for word in tokenized])\n",
    "    \n",
    "    # Largo máximo del resultado.\n",
    "    length = min(N, len(enc1))\n",
    "    encoded[:length] = enc1[:length]\n",
    "    return encoded, length\n",
    "\n",
    "reviews['encoded'] = reviews['review'].apply(lambda x: np.array(encode_sentence(x,vocab2index ), dtype=object))\n",
    "print(reviews.head())"
   ]
  },
  {
   "cell_type": "markdown",
   "metadata": {},
   "source": [
    "### 4) Calcule algunas estadísticas importantes\n",
    "\n",
    "Las estadísticas de los datos se mostraron en la sección anterior antes de que se hicieran los tokens. Identificación del balanceo de las clases a continuación:"
   ]
  },
  {
   "cell_type": "code",
   "execution_count": 151,
   "metadata": {},
   "outputs": [
    {
     "data": {
      "text/plain": [
       "Counter({3: 6039, 1: 1793, 2: 2184, 4: 9054, 0: 1421})"
      ]
     },
     "execution_count": 151,
     "metadata": {},
     "output_type": "execute_result"
    }
   ],
   "source": [
    "# Verificación de qué tan bien balanceadas están las clases.\n",
    "Counter(reviews['rating'])"
   ]
  },
  {
   "cell_type": "markdown",
   "metadata": {},
   "source": [
    "### 7) Separación de las muestras en datos de entrenamiento y evaluación\n",
    "\n",
    "a continuación se realiza la respectiva separación y crea un Dataset para el manejo de los datos en el modelo y la evaluación del mismo."
   ]
  },
  {
   "cell_type": "code",
   "execution_count": 152,
   "metadata": {},
   "outputs": [],
   "source": [
    "# Extracción de características y taget.\n",
    "X = list(reviews['encoded'])\n",
    "y = list(reviews['rating'])\n",
    "\n",
    "# División de datos de entrenamiento y validación\n",
    "from sklearn.model_selection import train_test_split\n",
    "X_train, X_valid, y_train, y_valid = train_test_split(X, y, test_size=0.2)"
   ]
  },
  {
   "cell_type": "code",
   "execution_count": 153,
   "metadata": {},
   "outputs": [],
   "source": [
    "# Definción de la clase Dataset para manejo de los datos\n",
    "class ReviewsDataset(Dataset):\n",
    "    def __init__(self, X, Y):\n",
    "        self.X = X\n",
    "        self.y = Y\n",
    "        \n",
    "    def __len__(self):\n",
    "        return len(self.y)\n",
    "    \n",
    "    def __getitem__(self, idx):\n",
    "        return torch.from_numpy(self.X[idx][0].astype(np.int32)), self.y[idx], self.X[idx][1]"
   ]
  },
  {
   "cell_type": "code",
   "execution_count": 154,
   "metadata": {},
   "outputs": [],
   "source": [
    "# Creación de los datasets de entrenamiento y validación\n",
    "train_ds = ReviewsDataset(X_train, y_train)\n",
    "valid_ds = ReviewsDataset(X_valid, y_valid)"
   ]
  },
  {
   "cell_type": "markdown",
   "metadata": {},
   "source": [
    "### 5) Defina una red recurrente LSTM. y 6) Definición de los hiperparámetros\n",
    "\n",
    "A continuación se muestra el modelo de la red con su respectiva función de forward"
   ]
  },
  {
   "cell_type": "code",
   "execution_count": 155,
   "metadata": {},
   "outputs": [],
   "source": [
    "class LSTM_fixed_len(torch.nn.Module) :\n",
    "    \"\"\"\n",
    "    Clase para realizar la clasificación de las oraciones. \n",
    "    \"\"\"\n",
    "    def __init__(self, vocab_size, embedding_dim, hidden_dim, tagset_size=5) :\n",
    "        \"\"\"\n",
    "        Inicialización de la clase.\n",
    "        Parámetros:\n",
    "           embedding_dim: dimesionalidad del vector de palabras. \n",
    "           hidden_dim: dimensión de la capa oculta de la red. \n",
    "           vocab_size: tamaño del vocabulario.  \n",
    "           tagset_size: número de clases.\n",
    "        \"\"\"\n",
    "        super().__init__()\n",
    "        self.embeddings = nn.Embedding(vocab_size, embedding_dim, padding_idx=0)\n",
    "        self.lstm = nn.LSTM(embedding_dim, hidden_dim, batch_first=True)\n",
    "        self.linear = nn.Linear(hidden_dim, tagset_size)\n",
    "        \n",
    "        # Durante el entrenamiento, pone a cero aleatoriamente algunos de los elementos \n",
    "        # del tensor de entrada con probabilidad p utilizando muestras de una \n",
    "        # distribución de Bernoulli. Esta ha demostrado ser una técnica eficaz para la regularización.\n",
    "        self.dropout = nn.Dropout(0.2)\n",
    "        \n",
    "    def forward(self, x, l):\n",
    "        x = self.embeddings(x)\n",
    "        x = self.dropout(x)\n",
    "        lstm_out, (ht, ct) = self.lstm(x)\n",
    "        return self.linear(ht[-1])"
   ]
  },
  {
   "cell_type": "markdown",
   "metadata": {},
   "source": [
    "### 7) Entrenamiento del modelo "
   ]
  },
  {
   "cell_type": "code",
   "execution_count": 156,
   "metadata": {},
   "outputs": [],
   "source": [
    "gen_train_loss = []\n",
    "gen_val_loss = []\n",
    "gen_val_acc = []\n",
    "gen_val_rmse = []\n",
    "\n",
    "def train_model(model, epochs=10, lr=0.001):\n",
    "    \"\"\"\n",
    "    Entrenamiento del modelo utilizando PyTorch.\n",
    "    \"\"\"\n",
    "    parameters = filter(lambda p: p.requires_grad, model.parameters())\n",
    "    optimizer = torch.optim.Adam(parameters, lr=lr)\n",
    "    for i in range(epochs):\n",
    "        model.train()\n",
    "        sum_loss = 0.0\n",
    "        total = 0\n",
    "        for x, y, l in train_dl:\n",
    "            x = x.long()\n",
    "            y = y.long()\n",
    "            y_pred = model(x, l)\n",
    "            optimizer.zero_grad()\n",
    "            loss = F.cross_entropy(y_pred, y)\n",
    "            loss.backward()\n",
    "            optimizer.step()\n",
    "            sum_loss += loss.item()*y.shape[0]\n",
    "            total += y.shape[0]\n",
    "\n",
    "        gen_train_loss.append(sum_loss/total)\n",
    "        val_loss, val_acc, val_rmse, y, pred = validation_metrics(model, val_dl)\n",
    "        gen_val_loss.append(val_loss)\n",
    "        gen_val_acc.append(val_acc)\n",
    "        gen_val_rmse.append(val_rmse)\n",
    "\n",
    "        if i % 5 == 1:\n",
    "            print(\"train loss %.3f, val loss %.3f, val accuracy %.3f, and val rmse %.3f\" % (sum_loss/total, val_loss, val_acc, val_rmse))\n",
    "\n",
    "TP = []\n",
    "FP = []\n",
    "FN = []\n",
    "TN = []\n",
    "\n",
    "def validation_metrics (model, valid_dl):\n",
    "    model.eval()\n",
    "    correct = 0\n",
    "    total = 0\n",
    "    sum_loss = 0.0\n",
    "    sum_rmse = 0.0\n",
    "    \n",
    "    i = 0\n",
    "    for x, y, l in valid_dl:\n",
    "        x = x.long()\n",
    "        y = y.long()\n",
    "        y_hat = model(x, l)\n",
    "        loss = F.cross_entropy(y_hat, y)\n",
    "        pred = torch.max(y_hat, 1)[1]\n",
    "        print(y)\n",
    "        print(pred)\n",
    "\n",
    "        # Calculo de datos para la matriz de confusión\n",
    "        if (pred[i] == 4):\n",
    "            if (y[i] == 4):\n",
    "                TP.append(1)\n",
    "            else:\n",
    "                FP.append(1)\n",
    "        else:\n",
    "            if(y[i] == 4):\n",
    "                FN.append(1)\n",
    "            else:\n",
    "                FN.append(1)\n",
    "        i +=1\n",
    "\n",
    "        correct += (pred == y).float().sum()\n",
    "        total += y.shape[0]\n",
    "        sum_loss += loss.item()*y.shape[0]\n",
    "        sum_rmse += np.sqrt(mean_squared_error(pred, y.unsqueeze(-1)))*y.shape[0]\n",
    "    return sum_loss/total, correct/total, sum_rmse/total, y, pred"
   ]
  },
  {
   "cell_type": "code",
   "execution_count": 157,
   "metadata": {},
   "outputs": [
    {
     "name": "stdout",
     "output_type": "stream",
     "text": [
      "tensor([3, 3, 4,  ..., 4, 3, 4])\n",
      "tensor([4, 4, 4,  ..., 4, 4, 4])\n",
      "tensor([3, 3, 4,  ..., 4, 3, 4])\n",
      "tensor([4, 4, 4,  ..., 4, 4, 4])\n",
      "train loss 1.385, val loss 1.359, val accuracy 0.441, and val rmse 1.608\n",
      "tensor([3, 3, 4,  ..., 4, 3, 4])\n",
      "tensor([4, 4, 4,  ..., 4, 4, 4])\n",
      "tensor([3, 3, 4,  ..., 4, 3, 4])\n",
      "tensor([4, 4, 4,  ..., 4, 4, 4])\n",
      "tensor([3, 3, 4,  ..., 4, 3, 4])\n",
      "tensor([4, 4, 4,  ..., 4, 4, 4])\n",
      "tensor([3, 3, 4,  ..., 4, 3, 4])\n",
      "tensor([4, 4, 4,  ..., 4, 4, 4])\n",
      "tensor([3, 3, 4,  ..., 4, 3, 4])\n",
      "tensor([4, 4, 4,  ..., 4, 4, 4])\n",
      "train loss 1.289, val loss 1.344, val accuracy 0.427, and val rmse 1.533\n",
      "tensor([3, 3, 4,  ..., 4, 3, 4])\n",
      "tensor([4, 4, 4,  ..., 4, 4, 4])\n",
      "tensor([3, 3, 4,  ..., 4, 3, 4])\n",
      "tensor([4, 1, 4,  ..., 4, 4, 4])\n",
      "tensor([3, 3, 4,  ..., 4, 3, 4])\n",
      "tensor([4, 4, 4,  ..., 4, 4, 4])\n",
      "tensor([3, 3, 4,  ..., 4, 3, 4])\n",
      "tensor([4, 4, 4,  ..., 3, 4, 4])\n",
      "tensor([3, 3, 4,  ..., 4, 3, 4])\n",
      "tensor([4, 4, 4,  ..., 4, 4, 4])\n",
      "train loss 1.079, val loss 1.194, val accuracy 0.468, and val rmse 1.223\n",
      "tensor([3, 3, 4,  ..., 4, 3, 4])\n",
      "tensor([4, 4, 4,  ..., 4, 4, 4])\n",
      "tensor([3, 3, 4,  ..., 4, 3, 4])\n",
      "tensor([4, 4, 4,  ..., 4, 4, 4])\n",
      "tensor([3, 3, 4,  ..., 4, 3, 4])\n",
      "tensor([4, 4, 3,  ..., 4, 4, 4])\n",
      "tensor([3, 3, 4,  ..., 4, 3, 4])\n",
      "tensor([4, 4, 3,  ..., 4, 4, 4])\n",
      "tensor([3, 3, 4,  ..., 4, 3, 4])\n",
      "tensor([4, 4, 3,  ..., 4, 4, 4])\n",
      "train loss 0.925, val loss 1.180, val accuracy 0.502, and val rmse 1.050\n",
      "tensor([3, 3, 4,  ..., 4, 3, 4])\n",
      "tensor([4, 4, 3,  ..., 4, 4, 4])\n",
      "tensor([3, 3, 4,  ..., 4, 3, 4])\n",
      "tensor([4, 4, 3,  ..., 4, 4, 4])\n",
      "tensor([3, 3, 4,  ..., 4, 3, 4])\n",
      "tensor([4, 4, 3,  ..., 4, 3, 4])\n",
      "tensor([3, 3, 4,  ..., 4, 3, 4])\n",
      "tensor([4, 4, 2,  ..., 4, 4, 4])\n",
      "tensor([3, 3, 4,  ..., 4, 3, 4])\n",
      "tensor([4, 4, 3,  ..., 4, 4, 4])\n",
      "train loss 0.898, val loss 1.287, val accuracy 0.489, and val rmse 1.101\n",
      "tensor([3, 3, 4,  ..., 4, 3, 4])\n",
      "tensor([4, 4, 3,  ..., 4, 3, 4])\n",
      "tensor([3, 3, 4,  ..., 4, 3, 4])\n",
      "tensor([4, 4, 3,  ..., 4, 4, 4])\n",
      "tensor([3, 3, 4,  ..., 4, 3, 4])\n",
      "tensor([4, 4, 3,  ..., 4, 3, 4])\n",
      "tensor([3, 3, 4,  ..., 4, 3, 4])\n",
      "tensor([4, 4, 3,  ..., 4, 3, 4])\n",
      "tensor([3, 3, 4,  ..., 4, 3, 4])\n",
      "tensor([4, 4, 3,  ..., 4, 3, 4])\n",
      "train loss 0.739, val loss 1.192, val accuracy 0.536, and val rmse 0.951\n",
      "tensor([3, 3, 4,  ..., 4, 3, 4])\n",
      "tensor([4, 4, 3,  ..., 4, 3, 4])\n",
      "tensor([3, 3, 4,  ..., 4, 3, 4])\n",
      "tensor([4, 4, 3,  ..., 4, 3, 4])\n",
      "tensor([3, 3, 4,  ..., 4, 3, 4])\n",
      "tensor([4, 4, 3,  ..., 4, 3, 4])\n"
     ]
    }
   ],
   "source": [
    "\n",
    "batch_size = 5000\n",
    "vocab_size = len(words)\n",
    "train_dl = DataLoader(train_ds, batch_size=batch_size, shuffle=True)\n",
    "val_dl = DataLoader(valid_ds, batch_size=batch_size)\n",
    "\n",
    "model_fixed =  LSTM_fixed_len(vocab_size, 50, 50)\n",
    "train_model(model_fixed, epochs=30, lr=0.01)"
   ]
  },
  {
   "cell_type": "markdown",
   "metadata": {},
   "source": [
    "### 9) Evaluación del modelo resultante "
   ]
  },
  {
   "cell_type": "code",
   "execution_count": 184,
   "metadata": {},
   "outputs": [
    {
     "name": "stdout",
     "output_type": "stream",
     "text": [
      "tensor([3, 3, 4,  ..., 4, 3, 4])\n",
      "tensor([4, 4, 3,  ..., 4, 3, 4])\n",
      "Exactitud tensor(0.5396)\n",
      "Raíz del error cuadrático medio 0.9398862653289952\n"
     ]
    }
   ],
   "source": [
    "# Validación del modelo \n",
    "average_loss, accuracy, average_rmse, y, pred = validation_metrics (model_fixed, val_dl)\n",
    "\n",
    "print (\"Exactitud\", accuracy)\n",
    "print(\"Raíz del error cuadrático medio\", average_rmse)\n",
    "\n",
    "\n"
   ]
  },
  {
   "cell_type": "markdown",
   "metadata": {},
   "source": [
    "### 8) Grafique la curva de error con datos de entrenamiento y prueba de todas las épocas\n",
    "\n",
    "La curva de error se muestra a continuación"
   ]
  },
  {
   "cell_type": "code",
   "execution_count": 183,
   "metadata": {},
   "outputs": [
    {
     "data": {
      "image/png": "[encoded data removed]",
      "text/plain": [
       "<Figure size 432x288 with 1 Axes>"
      ]
     },
     "metadata": {
      "needs_background": "light"
     },
     "output_type": "display_data"
    }
   ],
   "source": [
    "x = []\n",
    "\n",
    "for i in range(28):\n",
    "    x.append(i+1)\n",
    "\n",
    "\n",
    "# Graficar ambas funciones\n",
    "pyplot.plot(x, gen_val_acc[2:], label = \"Train\")\n",
    "pyplot.plot(x, gen_train_loss[2:], label = \"Validation\")\n",
    "\n",
    "\n",
    "pyplot.legend()\n",
    "\n",
    "\n",
    "# Establecer el color de los ejes.\n",
    "pyplot.axhline(0, color=\"black\")\n",
    "pyplot.axvline(0, color=\"black\")\n",
    "\n",
    "pyplot.title(\"Model train vs validation loss\")\n",
    "\n",
    "# Limitar los valores de los ejes.\n",
    "#pyplot.xlim(-10, 10)\n",
    "pyplot.ylim(0.3, 1.4)\n",
    "pyplot.xlabel(\"Cantidad de etapas\")\n",
    "pyplot.ylabel(\"Loss\")\n",
    "# Guardar gráfico como imágen PNG.\n",
    "# Mostrarlo.\n",
    "pyplot.show()"
   ]
  },
  {
   "cell_type": "markdown",
   "metadata": {},
   "source": [
    "### 9) Evalúe el model resultante utilizando una matriz de confusión y métricas extraidas a partir de esta"
   ]
  },
  {
   "cell_type": "markdown",
   "metadata": {},
   "source": [
    "La matriz de confusión de muestra en el siguiente bloque. En los comentarios se explica el resultado obtenido. Además las métricas de exactitud, presición, exhaustividad y F1 se muestran después en los resultados. Note que el cálculo respectivo corresponde a cada una de las clases ya que existen más de dos clases (el modelo de clasificación no es binario)"
   ]
  },
  {
   "cell_type": "code",
   "execution_count": 181,
   "metadata": {},
   "outputs": [
    {
     "name": "stdout",
     "output_type": "stream",
     "text": [
      "MATRIZ DE CONFUSION\n",
      "\t1\t2\t3\t4\t5\n",
      "1 \t 106\t77\t61\t30\t10\t\n",
      "2 \t 57\t76\t96\t85\t33\t\n",
      "3 \t 21\t50\t113\t186\t95\t\n",
      "4 \t 7\t25\t85\t412\t669\t\n",
      "5 \t 2\t5\t31\t262\t1505\t\n",
      "\n",
      "EXACTITUD: la proporción de prediccones que el modelo clasificó correctamente en el total de clases del modelo\n",
      "0.5396438155647719\n",
      "\n",
      "PRECISIÓN: Proporción de instancias correctas entre las recuperadas solamente considerando las positivas\n",
      "precisión en la clase  1  es  0.5492227979274611\n",
      "precisión en la clase  2  es  0.3261802575107296\n",
      "precisión en la clase  3  es  0.2927461139896373\n",
      "precisión en la clase  4  es  0.42256410256410254\n",
      "precisión en la clase  5  es  0.6509515570934256\n",
      "\n",
      "EXHAUSTIVIDAD: proporción de positivos que se identificó correctamente\n",
      "exhaustividad en la clase  1  es  0.3732394366197183\n",
      "exhaustividad en la clase  2  es  0.21902017291066284\n",
      "exhaustividad en la clase  3  es  0.24301075268817204\n",
      "exhaustividad en la clase  4  es  0.34390651085141904\n",
      "exhaustividad en la clase  5  es  0.8337950138504155\n",
      "\n",
      "F1: equilibrio entre la precisión y el recall\n",
      "f1 en la clase  1  es  0.4444444444444444\n",
      "f1 en la clase  2  es  0.2620689655172414\n",
      "f1 en la clase  3  es  0.26556991774383076\n",
      "f1 en la clase  4  es  0.37919926369075013\n",
      "f1 en la clase  5  es  0.731114889482633\n"
     ]
    }
   ],
   "source": [
    "# Matriz de confusión:\n",
    "# Como entrada se toman las listas que contienen los valores predecidos por el\n",
    "# modelo en la variable 'pred' y en la variable 'y' los valores esperados por\n",
    "# el modelo\n",
    "\n",
    "# la bilbioteca skilearn contiene los siguientes métodos para realizar los cáculos\n",
    "# métricas extraidas del modelo\n",
    "\n",
    "# Como esta matriz corresponde a una formada por varias clases el valor que se representa\n",
    "# en cada elemento son los casos que funcionaron, por ejemplo en la posición 3, 3 se muestran\n",
    "# la cantidad de valores 3 que tuvieron un valor predecido igual a 3\n",
    "\n",
    "print(\"MATRIZ DE CONFUSION\")\n",
    "confusion = confusion_matrix(y, pred)\n",
    "print(\"\\t1\\t2\\t3\\t4\\t5\")\n",
    "for i in range(5):\n",
    "    texto = \"\"\n",
    "    for j in range(5):\n",
    "        texto += str(confusion[i][j]) + \"\\t\"\n",
    "\n",
    "    print(i+1, \"\\t\", texto)\n",
    "\n",
    "# Exactitud: la proporciónd e prediccones que el modelo clasificó correctamente\n",
    "\n",
    "print(\"\\nEXACTITUD: la proporción de prediccones que el modelo clasificó correctamente en el total de clases del modelo\")\n",
    "print(accuracy_score(y, pred))\n",
    "\n",
    "# Precisión: porcentaje de los identificadores positivos que fueron recuperados\n",
    "print(\"\\nPRECISIÓN: Proporción de instancias correctas entre las recuperadas solamente considerando las positivas\")\n",
    "\n",
    "presicion = precision_score(y, pred, average=None, zero_division=True)\n",
    "\n",
    "for i in range(5):\n",
    "    print(\"precisión en la clase \", i+1, \" es \", presicion[i])\n",
    "\n",
    "\n",
    "# Exhausitividad: proporción de positivos que se identificó correctamente\n",
    "print(\"\\nEXHAUSTIVIDAD: proporción de positivos que se identificó correctamente\")\n",
    "\n",
    "exhaustividad = recall_score(y, pred, average= None)\n",
    "\n",
    "for i in range(5):\n",
    "    print(\"exhaustividad en la clase \", i+1, \" es \", exhaustividad[i])\n",
    "\n",
    "\n",
    "# F1: equilibrio entra la precisión y el recall\n",
    "print(\"\\nF1: equilibrio entre la precisión y el recall\")\n",
    "\n",
    "f1= f1_score(y, pred, average=None)\n",
    "\n",
    "for i in range(5):\n",
    "    print(\"f1 en la clase \", i+1, \" es \", f1[i])"
   ]
  },
  {
   "cell_type": "markdown",
   "metadata": {},
   "source": [
    "### 10) Analice los resultados\n",
    "\n",
    "Note que basado en los resultados el se tienen los siguiente puntos bajos:\n",
    "- Exactitud del tensor de 0.5396. Es una exactitud baja y se puede apreciar que en cada clase se cuenta con una precisión y exhaustividad baja debido al mismo problema.\n",
    "- La curva de error entre los datos de entrenamiento y las pruebas por cada una de las épocas no converge (no parece como que las líneas de la gráfica se tocan)\n",
    "\n",
    "Estos detalles pueden ser corregidos con más épocas de entrenamiento, por lo general se observan más de 30 épocas que son las que se definieron en este ejercicio pero se tiene el problema de que la simulación para más épocas dura bastante en mi computadora y la aplicación se cae. En una computadora más potente estos puntos bajos se pueden atender con más épocas. \n",
    "\n",
    "Otra solución para este problema que en este caso no se corrigió para poder ver el comportamiento completo es juntar clases, ya que se puede observar en la sección 4 que las clases no están tan bien balanceadas, esto porque se cuenta con muchos comentarios de 5 estrellas en comparación con el resto de las categorías.\n",
    "\n",
    "También se cuenta con un punto favorable que es la medición que se hizo del error cuadrático medio en el modelo, este es de 0.9398 lo cuál es bajo y nos permite saber que el modelo es bueno y que solo ocupa desarrollarse por más tiempo. Otro detalle que se puede destacar es que la evaluación de los nuevos comentarios se realiza rápidamente, en la sección 9 del documento se puede ver que la evaluación con los comentarios de prueba se realizó en menos de 2 segundos, lo cuál nos permite ver la utilidad de este modelo porque de hacerse manual el hecho de solamente leer 1 de los comentarios toma más que lo que dura la inteligencia artificial con miles de estos. "
   ]
  },
  {
   "cell_type": "markdown",
   "metadata": {},
   "source": [
    "### 11) Conclusiones\n",
    "\n",
    "- Una red de memoria de corto y largo plazo permite se adapta perfectamente a la clasificación del lenguaje natural. Como las palabras por si solas pueden tener diferentes significados se tienen que analizar con respecto a lo escrito anteriormente y debe influir en las siguientes palabras.\n",
    "\n",
    "- Al aumentar la cantidad de capas por las que pasa el análisis se mejora la curva de error (al disminuir el mismo), esto por que como se mencionó en la conclusión anterior un análisis en los resultados de las plabaras anteriores puede cambiar el contexto de la oración.\n",
    "\n",
    "- Un modelo de reconocimiento del lenguaje natural que se encuentre en constante entrenamiento es capaz de realizar predicciones de miles de opiniones en pocos segundos, este análisis acelerado le permite a las empresas mejorar sus servicios y acelerar sus procesos por lo que tiene muchas utilidades en el mercado moderno.\n",
    "\n",
    "- Una exactitud baja nos dice que el modelo no está teniendo buenos resultados, pero el error cuadrático medio que es la desviación entre los errores no indica que todos los resultados están desviados hacia el mismo lugar, es decir que con la corrección general del modelo el resto de los resultados se van acomodar correctamente y así generar el modelo deseado.\n"
   ]
  },
  {
   "cell_type": "markdown",
   "metadata": {},
   "source": [
    "## Referencias\n",
    "\n",
    "Mora, María (2022) \"Redes Neuronales Recurrentes\". Instituto Tecnológico de Costa Rica. I Semestre 2022.\n",
    "\n",
    "Shin, T. (2020) \"Comprensión de la Matriz de Confusión y Cómo Implementarla en Python\". Disponible en: https://www.datasource.ai/es/data-science-articles/comprension-de-la-matriz-de-confusion-y-como-implementarla-en-python\n",
    "\n",
    "Kaggle (2020) \"Trip advisor reviews sentiment analysis\". Disponible en: https://www.kaggle.com/code/wiktorbrk/trip-advisor-reviews-sentiment-analysis/notebook\n",
    "\n",
    "Silipo, R. (2019) \"Confusion Matrix and Class Stadistics\". Disponible en: https://towardsdatascience.com/confusion-matrix-and-class-statistics-68b79f4f510b"
   ]
  }
 ],
 "metadata": {
  "interpreter": {
   "hash": "e868495d694aed0b609784ddbe0f4170fa3a0dc0623318ab45c72f62595d740c"
  },
  "kernelspec": {
   "display_name": "Python 3.9.0 64-bit",
   "language": "python",
   "name": "python3"
  },
  "language_info": {
   "codemirror_mode": {
    "name": "ipython",
    "version": 3
   },
   "file_extension": ".py",
   "mimetype": "text/x-python",
   "name": "python",
   "nbconvert_exporter": "python",
   "pygments_lexer": "ipython3",
   "version": "3.9.0"
  },
  "orig_nbformat": 4
 },
 "nbformat": 4,
 "nbformat_minor": 2
}
